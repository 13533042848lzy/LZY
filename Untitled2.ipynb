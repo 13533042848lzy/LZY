{
 "cells": [
  {
   "cell_type": "markdown",
   "id": "98e207f9-bb99-4430-9049-e49f270fc446",
   "metadata": {},
   "source": [
    "## 实践"
   ]
  },
  {
   "cell_type": "code",
   "execution_count": 1,
   "id": "f7bc4e48-6c6b-4008-9339-1c044685d628",
   "metadata": {},
   "outputs": [
    {
     "name": "stderr",
     "output_type": "stream",
     "text": [
      "Building prefix dict from the default dictionary ...\n",
      "Loading model from cache C:\\Users\\86135\\AppData\\Local\\Temp\\jieba.cache\n",
      "Loading model cost 0.439 seconds.\n",
      "Prefix dict has been built successfully.\n"
     ]
    },
    {
     "name": "stdout",
     "output_type": "stream",
     "text": [
      "Top-5 关键词及其权重:\n",
      "大学: 1.0000\n",
      "国家: 0.9723\n",
      "重点: 0.9666\n",
      "教育部: 0.7475\n",
      "高校: 0.6785\n"
     ]
    }
   ],
   "source": [
    "import jieba.analyse\n",
    "# 定义文本\n",
    "text = \"燕山大学是河北省人民政府、教育部、工业和信息化部、国家国防科技工业局四方共建的全国重点大学，河北省重点支持的国家一流大学和世界一流学科建设高校，北京高科大学联盟成员。\"\n",
    "\n",
    "# 使用 TextRank 算法提取 top-5 关键词\n",
    "keywords = jieba.analyse.textrank(\n",
    "    text, \n",
    "    topK=5,           # 提取前5个关键词\n",
    "    withWeight=True,  # 返回关键词权重\n",
    "    allowPOS=('n', 'ns', 'nr', 'nt', 'nz')  # 只提取名词类词语\n",
    ")\n",
    "\n",
    "# 打印结果\n",
    "print(\"Top-5 关键词及其权重:\")\n",
    "for keyword, weight in keywords:\n",
    "    print(f\"{keyword}: {weight:.4f}\")"
   ]
  }
 ],
 "metadata": {
  "kernelspec": {
   "display_name": "Python 3 (ipykernel)",
   "language": "python",
   "name": "python3"
  },
  "language_info": {
   "codemirror_mode": {
    "name": "ipython",
    "version": 3
   },
   "file_extension": ".py",
   "mimetype": "text/x-python",
   "name": "python",
   "nbconvert_exporter": "python",
   "pygments_lexer": "ipython3",
   "version": "3.9.21"
  }
 },
 "nbformat": 4,
 "nbformat_minor": 5
}
