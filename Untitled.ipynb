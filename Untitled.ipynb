{
 "cells": [
  {
   "cell_type": "markdown",
   "id": "e790caee-1410-496c-8ed1-7120b0759aa5",
   "metadata": {},
   "source": [
    "# 结巴分词实践"
   ]
  },
  {
   "cell_type": "markdown",
   "id": "d98edbbc-f384-4b16-8840-d5769ede29dd",
   "metadata": {},
   "source": [
    "## 结巴分词的三种模式"
   ]
  },
  {
   "cell_type": "markdown",
   "id": "5135bafe-374d-4cfd-8c31-87ebc7e1d6c6",
   "metadata": {},
   "source": [
    "### 全模式"
   ]
  },
  {
   "cell_type": "code",
   "execution_count": 5,
   "id": "cd2e28a9-b067-462c-97fd-45356e0a1a37",
   "metadata": {},
   "outputs": [
    {
     "name": "stdout",
     "output_type": "stream",
     "text": [
      "Full Mode:我/ 来到/ 北京/ 清华/ 清华大学/ 华大/ 大学\n"
     ]
    }
   ],
   "source": [
    "import jieba\n",
    "seg_list = jieba.cut(\"我来到北京清华大学\", cut_all=True)\n",
    "print(\"Full Mode:\" + \"/ \".join(seg_list)) #全模式"
   ]
  },
  {
   "cell_type": "markdown",
   "id": "26382f02-f33e-40e8-9f0c-eb2b18348a6a",
   "metadata": {},
   "source": [
    "### 精确模式"
   ]
  },
  {
   "cell_type": "code",
   "execution_count": 7,
   "id": "e29a1d5e-1d30-4e00-a1b3-6ad11e9d8a7b",
   "metadata": {},
   "outputs": [
    {
     "name": "stdout",
     "output_type": "stream",
     "text": [
      "Default Mode: 我/ 来到/ 北京/ 清华大学\n"
     ]
    }
   ],
   "source": [
    "seg_list = jieba.cut(\"我来到北京清华大学\", cut_all=False)\n",
    "print(\"Default Mode: \" + \"/ \".join(seg_list)) #精确模式"
   ]
  },
  {
   "cell_type": "markdown",
   "id": "034ef182-256f-49b8-9047-6536142296ff",
   "metadata": {},
   "source": [
    "### 搜索引擎模式"
   ]
  },
  {
   "cell_type": "code",
   "execution_count": 10,
   "id": "503fe0cc-94c2-42a8-9315-da112cf66676",
   "metadata": {},
   "outputs": [
    {
     "name": "stdout",
     "output_type": "stream",
     "text": [
      "小明, 硕士, 毕业, 于, 中国, 科学, 学院, 科学院, 中国科学院, 计算, 计算所, ，, 后, 在, 日本, 京都, 大学, 日本京都大学, 深造\n"
     ]
    }
   ],
   "source": [
    "seg_list = jieba.cut_for_search(\"小明硕士毕业于中国科学院计算所，后在日本京都大学深造\") #搜索引擎模式\n",
    "print(\", \".join(seg_list))"
   ]
  }
 ],
 "metadata": {
  "kernelspec": {
   "display_name": "Python 3 (ipykernel)",
   "language": "python",
   "name": "python3"
  },
  "language_info": {
   "codemirror_mode": {
    "name": "ipython",
    "version": 3
   },
   "file_extension": ".py",
   "mimetype": "text/x-python",
   "name": "python",
   "nbconvert_exporter": "python",
   "pygments_lexer": "ipython3",
   "version": "3.9.21"
  }
 },
 "nbformat": 4,
 "nbformat_minor": 5
}
