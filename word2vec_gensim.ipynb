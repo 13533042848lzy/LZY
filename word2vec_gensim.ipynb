{
 "cells": [
  {
   "cell_type": "code",
   "execution_count": 6,
   "id": "328da460-0f33-4abf-9f62-b573d4194693",
   "metadata": {},
   "outputs": [],
   "source": [
    "#词向量\n",
    "import pandas as pd\n",
    "import jieba\n",
    "from gensim.models.word2vec import Word2Vec"
   ]
  },
  {
   "cell_type": "code",
   "execution_count": 7,
   "id": "544efae5-a849-4989-b292-217383167a6f",
   "metadata": {},
   "outputs": [
    {
     "name": "stderr",
     "output_type": "stream",
     "text": [
      "Building prefix dict from the default dictionary ...\n",
      "Loading model from cache C:\\Users\\86135\\AppData\\Local\\Temp\\jieba.cache\n",
      "Loading model cost 0.545 seconds.\n",
      "Prefix dict has been built successfully.\n"
     ]
    }
   ],
   "source": [
    "# 读入训练集文件\n",
    "data = pd.read_csv('train.csv')\n",
    "\n",
    "# 转字符串数组\n",
    "corpus = data['comment'].values.astype(str)\n",
    "\n",
    "# 分词，再重组为字符串数组\n",
    "corpus = [jieba.lcut(corpus[index]\n",
    "                          .replace(\"，\", \"\")\n",
    "                          .replace(\"!\", \"\")\n",
    "                          .replace(\"！\", \"\")\n",
    "                          .replace(\"。\", \"\")\n",
    "                          .replace(\"~\", \"\")\n",
    "                          .replace(\"；\", \"\")\n",
    "                          .replace(\"？\", \"\")\n",
    "                          .replace(\"?\", \"\")\n",
    "                          .replace(\"【\", \"\")\n",
    "                          .replace(\"】\", \"\")\n",
    "                          .replace(\"#\", \"\")\n",
    "                        ) for index in range(len(corpus))]"
   ]
  },
  {
   "cell_type": "code",
   "execution_count": 8,
   "id": "ba1e0716-b74d-4bc3-bd2a-2c5a23323773",
   "metadata": {},
   "outputs": [],
   "source": [
    "model = Word2Vec(corpus, sg=0, vector_size=300, window=5, min_count=3, workers=4)"
   ]
  },
  {
   "cell_type": "code",
   "execution_count": 9,
   "id": "de9d52f7-5189-40dc-b59a-f7d895758ff2",
   "metadata": {},
   "outputs": [
    {
     "name": "stdout",
     "output_type": "stream",
     "text": [
      "\n",
      "1. '环境'的词向量形状: (300,)\n",
      "   '环境'的词向量前5维: [ 0.17646463 -0.10916523  0.2903148   0.23673631 -0.32825947] ...\n",
      "\n"
     ]
    }
   ],
   "source": [
    "env_vector = model.wv['环境']\n",
    "print(\"\\n1. '环境'的词向量形状:\", env_vector.shape)\n",
    "print(\"   '环境'的词向量前5维:\", env_vector[:5], \"...\\n\")"
   ]
  },
  {
   "cell_type": "code",
   "execution_count": 10,
   "id": "2a7cd80b-0ef4-4e0b-bb9d-696c6c3e2810",
   "metadata": {},
   "outputs": [
    {
     "name": "stdout",
     "output_type": "stream",
     "text": [
      "2. 与'好吃'最接近的3个词: [('棒', 0.9588048458099365), ('超级', 0.9560684561729431), ('好喝', 0.9536986351013184)] \n",
      "\n"
     ]
    }
   ],
   "source": [
    "similar_words = model.wv.most_similar('好吃', topn=3)\n",
    "print(\"2. 与'好吃'最接近的3个词:\", similar_words, \"\\n\")"
   ]
  },
  {
   "cell_type": "code",
   "execution_count": 11,
   "id": "5d2f0128-a729-4715-9ad9-cbbfeaf268cd",
   "metadata": {},
   "outputs": [
    {
     "name": "stdout",
     "output_type": "stream",
     "text": [
      "3. 相似度计算:\n",
      "   '好吃' vs '美味': 0.847756\n",
      "   '好吃' vs '蟑螂': 0.40219024 \n",
      "\n"
     ]
    }
   ],
   "source": [
    "sim_delicious = model.wv.similarity('好吃', '美味')\n",
    "sim_cockroach = model.wv.similarity('好吃', '蟑螂')\n",
    "print(\"3. 相似度计算:\")\n",
    "print(\"   '好吃' vs '美味':\", sim_delicious)\n",
    "print(\"   '好吃' vs '蟑螂':\", sim_cockroach, \"\\n\")"
   ]
  },
  {
   "cell_type": "code",
   "execution_count": 12,
   "id": "bf723dcc-d4f4-4b4f-812f-8e30c20ba682",
   "metadata": {},
   "outputs": [
    {
     "name": "stdout",
     "output_type": "stream",
     "text": [
      "4. 向量运算'餐厅 + 聚会 - 安静'的结果: ('我家', 0.9957452416419983) \n",
      "\n"
     ]
    }
   ],
   "source": [
    "result = model.wv.most_similar(positive=['餐厅', '聚会'], negative=['安静'], topn=1)\n",
    "print(\"4. 向量运算'餐厅 + 聚会 - 安静'的结果:\", result[0], \"\\n\")"
   ]
  }
 ],
 "metadata": {
  "kernelspec": {
   "display_name": "Python 3 (ipykernel)",
   "language": "python",
   "name": "python3"
  },
  "language_info": {
   "codemirror_mode": {
    "name": "ipython",
    "version": 3
   },
   "file_extension": ".py",
   "mimetype": "text/x-python",
   "name": "python",
   "nbconvert_exporter": "python",
   "pygments_lexer": "ipython3",
   "version": "3.9.21"
  }
 },
 "nbformat": 4,
 "nbformat_minor": 5
}
