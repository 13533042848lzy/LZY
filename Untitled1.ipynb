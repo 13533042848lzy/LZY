{
 "cells": [
  {
   "cell_type": "markdown",
   "id": "9acac306-ddb7-4a4d-817a-3f18dd89fc6a",
   "metadata": {},
   "source": [
    "## 载入词典"
   ]
  },
  {
   "cell_type": "code",
   "execution_count": 6,
   "id": "a271191e-6405-47e3-a66b-73c21ee9f93e",
   "metadata": {},
   "outputs": [
    {
     "name": "stderr",
     "output_type": "stream",
     "text": [
      "Building prefix dict from the default dictionary ...\n",
      "Loading model from cache C:\\Users\\86135\\AppData\\Local\\Temp\\jieba.cache\n",
      "Loading model cost 0.487 seconds.\n",
      "Prefix dict has been built successfully.\n"
     ]
    },
    {
     "name": "stdout",
     "output_type": "stream",
     "text": [
      "Default Mode: 连芷芸/ 即将/ 是/ 自然语言/ 处理/ 方面/ 的/ 高手\n"
     ]
    }
   ],
   "source": [
    "import jieba\n",
    "jieba.load_userdict(\"userdict.txt\")\n",
    "seg_list = jieba.cut(\"连芷芸即将是自然语言处理方面的高手\", cut_all=False, HMM=False)\n",
    "print(\"Default Mode: \" + \"/ \".join(seg_list))"
   ]
  }
 ],
 "metadata": {
  "kernelspec": {
   "display_name": "Python 3 (ipykernel)",
   "language": "python",
   "name": "python3"
  },
  "language_info": {
   "codemirror_mode": {
    "name": "ipython",
    "version": 3
   },
   "file_extension": ".py",
   "mimetype": "text/x-python",
   "name": "python",
   "nbconvert_exporter": "python",
   "pygments_lexer": "ipython3",
   "version": "3.9.21"
  }
 },
 "nbformat": 4,
 "nbformat_minor": 5
}
